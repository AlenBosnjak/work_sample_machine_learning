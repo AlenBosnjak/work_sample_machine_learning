{
 "cells": [
  {
   "cell_type": "markdown",
   "id": "39c04788",
   "metadata": {},
   "source": [
    "### Using tf.data for Multiple Files"
   ]
  },
  {
   "cell_type": "code",
   "execution_count": 1,
   "id": "0718e7ed",
   "metadata": {},
   "outputs": [],
   "source": [
    "import os\n",
    "import matplotlib.pyplot as plt\n",
    "import tensorflow as tf\n",
    "from tensorflow import keras\n",
    "from tensorflow.keras import layers\n",
    "import pandas as pd\n",
    "from sklearn.metrics import confusion_matrix\n",
    "from sklearn.model_selection import train_test_split\n",
    "from tensorboard.plugins.hparams import api as hp\n",
    "import keras_tuner as kt\n",
    "import numpy as np\n",
    "import pickle\n",
    "from tensorflow.keras import utils as np_utils\n",
    "\n",
    "from sklearn.preprocessing import MinMaxScaler\n",
    "# Load the TensorBoard notebook extension\n",
    "%load_ext tensorboard\n",
    "# Clear any logs from previous runs\n",
    "\n",
    "SHUFFLE_BUFFER = 500\n",
    "BATCH_SIZE = 128"
   ]
  },
  {
   "cell_type": "code",
   "execution_count": 2,
   "id": "84fd2dc1",
   "metadata": {},
   "outputs": [
    {
     "name": "stdout",
     "output_type": "stream",
     "text": [
      "TensorFlow version: 2.5.0\n",
      "Eager execution: True\n"
     ]
    }
   ],
   "source": [
    "print(\"TensorFlow version: {}\".format(tf.__version__))\n",
    "print(\"Eager execution: {}\".format(tf.executing_eagerly()))"
   ]
  },
  {
   "cell_type": "code",
   "execution_count": 3,
   "id": "a0e70030",
   "metadata": {
    "scrolled": true
   },
   "outputs": [
    {
     "name": "stdout",
     "output_type": "stream",
     "text": [
      "Num GPUs Available:  1\n",
      "[PhysicalDevice(name='/physical_device:GPU:0', device_type='GPU')]\n",
      "<function is_built_with_cuda at 0x00000189058F80D0>\n",
      "/device:GPU:0\n",
      "[PhysicalDevice(name='/physical_device:CPU:0', device_type='CPU'), PhysicalDevice(name='/physical_device:GPU:0', device_type='GPU')]\n"
     ]
    }
   ],
   "source": [
    "print(\"Num GPUs Available: \", len(tf.config.list_physical_devices('GPU')))\n",
    "print(tf.config.list_physical_devices('GPU'))\n",
    "# [PhysicalDevice(name='/physical_device:GPU:0', device_type='GPU')]\n",
    "\n",
    "print(tf.test.is_built_with_cuda)\n",
    "# <function is_built_with_cuda at 0x7f4f5730fbf8>\n",
    "\n",
    "print(tf.test.gpu_device_name())\n",
    "# /device:GPU:0\n",
    "\n",
    "print(tf.config.get_visible_devices())"
   ]
  },
  {
   "cell_type": "code",
   "execution_count": 4,
   "id": "c2bd52bd",
   "metadata": {},
   "outputs": [],
   "source": [
    "df = pd.read_csv(\"edit_fixture_edit_players.csv\",encoding='latin-1')"
   ]
  },
  {
   "cell_type": "code",
   "execution_count": 5,
   "id": "daabd597",
   "metadata": {},
   "outputs": [],
   "source": [
    "CATEGORIES = ['HOME', 'AWAY', 'DRAW'] # 0 = home, 0.5 = draw, 1 = away\n"
   ]
  },
  {
   "cell_type": "code",
   "execution_count": 6,
   "id": "8a9e233b",
   "metadata": {},
   "outputs": [],
   "source": [
    "pd.set_option('max_rows', None)\n",
    "pd.set_option('max_columns', None)"
   ]
  },
  {
   "cell_type": "code",
   "execution_count": 7,
   "id": "f3d679a5",
   "metadata": {
    "scrolled": true
   },
   "outputs": [
    {
     "data": {
      "text/html": [
       "<div>\n",
       "<style scoped>\n",
       "    .dataframe tbody tr th:only-of-type {\n",
       "        vertical-align: middle;\n",
       "    }\n",
       "\n",
       "    .dataframe tbody tr th {\n",
       "        vertical-align: top;\n",
       "    }\n",
       "\n",
       "    .dataframe thead th {\n",
       "        text-align: right;\n",
       "    }\n",
       "</style>\n",
       "<table border=\"1\" class=\"dataframe\">\n",
       "  <thead>\n",
       "    <tr style=\"text-align: right;\">\n",
       "      <th></th>\n",
       "      <th>fixture_id</th>\n",
       "      <th>home_id</th>\n",
       "      <th>h_elo</th>\n",
       "      <th>h_attack</th>\n",
       "      <th>h_defence</th>\n",
       "      <th>away_id</th>\n",
       "      <th>a_elo</th>\n",
       "      <th>a_attack</th>\n",
       "      <th>a_defence</th>\n",
       "      <th>result</th>\n",
       "      <th>h_Shots_on_Goal</th>\n",
       "      <th>h_Shots_off_Goal</th>\n",
       "      <th>h_Total_Shots</th>\n",
       "      <th>h_Blocked_Shots</th>\n",
       "      <th>h_Shots_insidebox</th>\n",
       "      <th>h_Shots_outsidebox</th>\n",
       "      <th>h_Fouls</th>\n",
       "      <th>h_Corner_Kicks</th>\n",
       "      <th>h_Ball_Possession</th>\n",
       "      <th>h_Goalkeeper_Saves</th>\n",
       "      <th>h_Total_passes</th>\n",
       "      <th>h_Passes_accurate</th>\n",
       "      <th>h_Passing_accuracy</th>\n",
       "      <th>a_Shots_on_Goal</th>\n",
       "      <th>a_Shots_off_Goal</th>\n",
       "      <th>a_Total_Shots</th>\n",
       "      <th>a_Blocked_Shots</th>\n",
       "      <th>a_Shots_insidebox</th>\n",
       "      <th>a_Shots_outsidebox</th>\n",
       "      <th>a_Fouls</th>\n",
       "      <th>a_Corner_Kicks</th>\n",
       "      <th>a_Ball_Possession</th>\n",
       "      <th>a_Goalkeeper_Saves</th>\n",
       "      <th>a_Total_passes</th>\n",
       "      <th>a_Passes_accurate</th>\n",
       "      <th>a_Passing_accuracy</th>\n",
       "      <th>h_0</th>\n",
       "      <th>h_1</th>\n",
       "      <th>h_2</th>\n",
       "      <th>h_3</th>\n",
       "      <th>h_4</th>\n",
       "      <th>h_5</th>\n",
       "      <th>h_6</th>\n",
       "      <th>h_7</th>\n",
       "      <th>h_8</th>\n",
       "      <th>h_9</th>\n",
       "      <th>h_10</th>\n",
       "      <th>a_0</th>\n",
       "      <th>a_1</th>\n",
       "      <th>a_2</th>\n",
       "      <th>a_3</th>\n",
       "      <th>a_4</th>\n",
       "      <th>a_5</th>\n",
       "      <th>a_6</th>\n",
       "      <th>a_7</th>\n",
       "      <th>a_8</th>\n",
       "      <th>a_9</th>\n",
       "      <th>a_10</th>\n",
       "    </tr>\n",
       "  </thead>\n",
       "  <tbody>\n",
       "    <tr>\n",
       "      <th>0</th>\n",
       "      <td>65</td>\n",
       "      <td>33</td>\n",
       "      <td>1701.999982</td>\n",
       "      <td>1.465662</td>\n",
       "      <td>-0.509711</td>\n",
       "      <td>46</td>\n",
       "      <td>1499.785559</td>\n",
       "      <td>1.574221</td>\n",
       "      <td>-1.981735</td>\n",
       "      <td>0.0</td>\n",
       "      <td>3.0</td>\n",
       "      <td>4.2</td>\n",
       "      <td>10.6</td>\n",
       "      <td>3.4</td>\n",
       "      <td>6.2</td>\n",
       "      <td>4.4</td>\n",
       "      <td>8.2</td>\n",
       "      <td>4.6</td>\n",
       "      <td>55.6</td>\n",
       "      <td>2.4</td>\n",
       "      <td>568.0</td>\n",
       "      <td>488.0</td>\n",
       "      <td>83.4</td>\n",
       "      <td>5.2</td>\n",
       "      <td>4.0</td>\n",
       "      <td>11.6</td>\n",
       "      <td>2.4</td>\n",
       "      <td>8.0</td>\n",
       "      <td>3.6</td>\n",
       "      <td>10.4</td>\n",
       "      <td>4.2</td>\n",
       "      <td>52.0</td>\n",
       "      <td>2.0</td>\n",
       "      <td>405.0</td>\n",
       "      <td>306.6</td>\n",
       "      <td>75.6</td>\n",
       "      <td>882.0</td>\n",
       "      <td>887.0</td>\n",
       "      <td>889.0</td>\n",
       "      <td>891.0</td>\n",
       "      <td>885.0</td>\n",
       "      <td>901.0</td>\n",
       "      <td>904.0</td>\n",
       "      <td>905.0</td>\n",
       "      <td>899.0</td>\n",
       "      <td>910.0</td>\n",
       "      <td>909.0</td>\n",
       "      <td>2728.0</td>\n",
       "      <td>18774.0</td>\n",
       "      <td>2935.0</td>\n",
       "      <td>18771.0</td>\n",
       "      <td>2933.0</td>\n",
       "      <td>114.0</td>\n",
       "      <td>3421.0</td>\n",
       "      <td>18786.0</td>\n",
       "      <td>18781.0</td>\n",
       "      <td>18784.0</td>\n",
       "      <td>2778.0</td>\n",
       "    </tr>\n",
       "    <tr>\n",
       "      <th>1</th>\n",
       "      <td>66</td>\n",
       "      <td>34</td>\n",
       "      <td>1484.325864</td>\n",
       "      <td>1.080315</td>\n",
       "      <td>-0.996740</td>\n",
       "      <td>47</td>\n",
       "      <td>1735.523910</td>\n",
       "      <td>2.262229</td>\n",
       "      <td>-0.981297</td>\n",
       "      <td>1.0</td>\n",
       "      <td>4.0</td>\n",
       "      <td>5.6</td>\n",
       "      <td>13.2</td>\n",
       "      <td>3.6</td>\n",
       "      <td>7.2</td>\n",
       "      <td>6.0</td>\n",
       "      <td>9.8</td>\n",
       "      <td>3.2</td>\n",
       "      <td>46.6</td>\n",
       "      <td>1.4</td>\n",
       "      <td>430.4</td>\n",
       "      <td>322.8</td>\n",
       "      <td>72.6</td>\n",
       "      <td>5.8</td>\n",
       "      <td>4.2</td>\n",
       "      <td>14.6</td>\n",
       "      <td>4.6</td>\n",
       "      <td>8.4</td>\n",
       "      <td>6.2</td>\n",
       "      <td>8.6</td>\n",
       "      <td>5.2</td>\n",
       "      <td>64.2</td>\n",
       "      <td>2.8</td>\n",
       "      <td>577.2</td>\n",
       "      <td>481.8</td>\n",
       "      <td>83.4</td>\n",
       "      <td>18886.0</td>\n",
       "      <td>18891.0</td>\n",
       "      <td>18894.0</td>\n",
       "      <td>18892.0</td>\n",
       "      <td>18897.0</td>\n",
       "      <td>18904.0</td>\n",
       "      <td>18898.0</td>\n",
       "      <td>18903.0</td>\n",
       "      <td>18902.0</td>\n",
       "      <td>18907.0</td>\n",
       "      <td>18906.0</td>\n",
       "      <td>159.0</td>\n",
       "      <td>170.0</td>\n",
       "      <td>163.0</td>\n",
       "      <td>164.0</td>\n",
       "      <td>168.0</td>\n",
       "      <td>179.0</td>\n",
       "      <td>174.0</td>\n",
       "      <td>178.0</td>\n",
       "      <td>172.0</td>\n",
       "      <td>175.0</td>\n",
       "      <td>184.0</td>\n",
       "    </tr>\n",
       "    <tr>\n",
       "      <th>2</th>\n",
       "      <td>67</td>\n",
       "      <td>35</td>\n",
       "      <td>1477.638408</td>\n",
       "      <td>1.309383</td>\n",
       "      <td>-1.821893</td>\n",
       "      <td>43</td>\n",
       "      <td>1484.035903</td>\n",
       "      <td>-0.045547</td>\n",
       "      <td>-0.167265</td>\n",
       "      <td>0.0</td>\n",
       "      <td>4.0</td>\n",
       "      <td>7.0</td>\n",
       "      <td>15.6</td>\n",
       "      <td>4.6</td>\n",
       "      <td>9.2</td>\n",
       "      <td>6.4</td>\n",
       "      <td>8.6</td>\n",
       "      <td>7.4</td>\n",
       "      <td>47.6</td>\n",
       "      <td>3.4</td>\n",
       "      <td>428.0</td>\n",
       "      <td>335.2</td>\n",
       "      <td>77.6</td>\n",
       "      <td>0.0</td>\n",
       "      <td>0.0</td>\n",
       "      <td>0.0</td>\n",
       "      <td>0.0</td>\n",
       "      <td>0.0</td>\n",
       "      <td>0.0</td>\n",
       "      <td>0.0</td>\n",
       "      <td>0.0</td>\n",
       "      <td>0.0</td>\n",
       "      <td>0.0</td>\n",
       "      <td>0.0</td>\n",
       "      <td>0.0</td>\n",
       "      <td>0.0</td>\n",
       "      <td>18858.0</td>\n",
       "      <td>18864.0</td>\n",
       "      <td>18869.0</td>\n",
       "      <td>18863.0</td>\n",
       "      <td>18861.0</td>\n",
       "      <td>18879.0</td>\n",
       "      <td>18874.0</td>\n",
       "      <td>18873.0</td>\n",
       "      <td>18870.0</td>\n",
       "      <td>2939.0</td>\n",
       "      <td>18881.0</td>\n",
       "      <td>18983.0</td>\n",
       "      <td>18994.0</td>\n",
       "      <td>18991.0</td>\n",
       "      <td>18986.0</td>\n",
       "      <td>18992.0</td>\n",
       "      <td>18987.0</td>\n",
       "      <td>18993.0</td>\n",
       "      <td>19004.0</td>\n",
       "      <td>19003.0</td>\n",
       "      <td>19007.0</td>\n",
       "      <td>19008.0</td>\n",
       "    </tr>\n",
       "    <tr>\n",
       "      <th>3</th>\n",
       "      <td>68</td>\n",
       "      <td>36</td>\n",
       "      <td>1485.130306</td>\n",
       "      <td>-0.030110</td>\n",
       "      <td>-0.157769</td>\n",
       "      <td>52</td>\n",
       "      <td>1503.018276</td>\n",
       "      <td>1.689230</td>\n",
       "      <td>-1.204394</td>\n",
       "      <td>1.0</td>\n",
       "      <td>0.0</td>\n",
       "      <td>0.0</td>\n",
       "      <td>0.0</td>\n",
       "      <td>0.0</td>\n",
       "      <td>0.0</td>\n",
       "      <td>0.0</td>\n",
       "      <td>0.0</td>\n",
       "      <td>0.0</td>\n",
       "      <td>0.0</td>\n",
       "      <td>0.0</td>\n",
       "      <td>0.0</td>\n",
       "      <td>0.0</td>\n",
       "      <td>0.0</td>\n",
       "      <td>3.4</td>\n",
       "      <td>4.6</td>\n",
       "      <td>11.8</td>\n",
       "      <td>3.8</td>\n",
       "      <td>6.6</td>\n",
       "      <td>5.2</td>\n",
       "      <td>11.0</td>\n",
       "      <td>4.6</td>\n",
       "      <td>48.0</td>\n",
       "      <td>3.6</td>\n",
       "      <td>390.2</td>\n",
       "      <td>294.2</td>\n",
       "      <td>75.4</td>\n",
       "      <td>19011.0</td>\n",
       "      <td>19019.0</td>\n",
       "      <td>19017.0</td>\n",
       "      <td>19015.0</td>\n",
       "      <td>19016.0</td>\n",
       "      <td>19029.0</td>\n",
       "      <td>19031.0</td>\n",
       "      <td>19025.0</td>\n",
       "      <td>3243.0</td>\n",
       "      <td>19032.0</td>\n",
       "      <td>2825.0</td>\n",
       "      <td>18836.0</td>\n",
       "      <td>18842.0</td>\n",
       "      <td>18844.0</td>\n",
       "      <td>18845.0</td>\n",
       "      <td>18843.0</td>\n",
       "      <td>18846.0</td>\n",
       "      <td>18849.0</td>\n",
       "      <td>18854.0</td>\n",
       "      <td>18852.0</td>\n",
       "      <td>2928.0</td>\n",
       "      <td>3247.0</td>\n",
       "    </tr>\n",
       "    <tr>\n",
       "      <th>4</th>\n",
       "      <td>69</td>\n",
       "      <td>37</td>\n",
       "      <td>1425.731483</td>\n",
       "      <td>0.373948</td>\n",
       "      <td>-1.192954</td>\n",
       "      <td>49</td>\n",
       "      <td>1644.610836</td>\n",
       "      <td>1.526170</td>\n",
       "      <td>-1.143879</td>\n",
       "      <td>1.0</td>\n",
       "      <td>2.4</td>\n",
       "      <td>6.8</td>\n",
       "      <td>14.6</td>\n",
       "      <td>5.4</td>\n",
       "      <td>8.8</td>\n",
       "      <td>5.8</td>\n",
       "      <td>9.8</td>\n",
       "      <td>7.2</td>\n",
       "      <td>56.2</td>\n",
       "      <td>2.2</td>\n",
       "      <td>481.8</td>\n",
       "      <td>374.8</td>\n",
       "      <td>76.4</td>\n",
       "      <td>3.0</td>\n",
       "      <td>4.0</td>\n",
       "      <td>10.6</td>\n",
       "      <td>3.6</td>\n",
       "      <td>6.8</td>\n",
       "      <td>4.0</td>\n",
       "      <td>10.6</td>\n",
       "      <td>3.0</td>\n",
       "      <td>51.0</td>\n",
       "      <td>2.8</td>\n",
       "      <td>531.8</td>\n",
       "      <td>444.4</td>\n",
       "      <td>83.0</td>\n",
       "      <td>19038.0</td>\n",
       "      <td>2731.0</td>\n",
       "      <td>19044.0</td>\n",
       "      <td>19045.0</td>\n",
       "      <td>19043.0</td>\n",
       "      <td>19042.0</td>\n",
       "      <td>19049.0</td>\n",
       "      <td>19050.0</td>\n",
       "      <td>19051.0</td>\n",
       "      <td>2734.0</td>\n",
       "      <td>3395.0</td>\n",
       "      <td>2273.0</td>\n",
       "      <td>2283.0</td>\n",
       "      <td>2280.0</td>\n",
       "      <td>2278.0</td>\n",
       "      <td>2285.0</td>\n",
       "      <td>2287.0</td>\n",
       "      <td>2289.0</td>\n",
       "      <td>2290.0</td>\n",
       "      <td>2294.0</td>\n",
       "      <td>2299.0</td>\n",
       "      <td>59.0</td>\n",
       "    </tr>\n",
       "  </tbody>\n",
       "</table>\n",
       "</div>"
      ],
      "text/plain": [
       "   fixture_id  home_id        h_elo  h_attack  h_defence  away_id  \\\n",
       "0          65       33  1701.999982  1.465662  -0.509711       46   \n",
       "1          66       34  1484.325864  1.080315  -0.996740       47   \n",
       "2          67       35  1477.638408  1.309383  -1.821893       43   \n",
       "3          68       36  1485.130306 -0.030110  -0.157769       52   \n",
       "4          69       37  1425.731483  0.373948  -1.192954       49   \n",
       "\n",
       "         a_elo  a_attack  a_defence  result  h_Shots_on_Goal  \\\n",
       "0  1499.785559  1.574221  -1.981735     0.0              3.0   \n",
       "1  1735.523910  2.262229  -0.981297     1.0              4.0   \n",
       "2  1484.035903 -0.045547  -0.167265     0.0              4.0   \n",
       "3  1503.018276  1.689230  -1.204394     1.0              0.0   \n",
       "4  1644.610836  1.526170  -1.143879     1.0              2.4   \n",
       "\n",
       "   h_Shots_off_Goal  h_Total_Shots  h_Blocked_Shots  h_Shots_insidebox  \\\n",
       "0               4.2           10.6              3.4                6.2   \n",
       "1               5.6           13.2              3.6                7.2   \n",
       "2               7.0           15.6              4.6                9.2   \n",
       "3               0.0            0.0              0.0                0.0   \n",
       "4               6.8           14.6              5.4                8.8   \n",
       "\n",
       "   h_Shots_outsidebox  h_Fouls  h_Corner_Kicks  h_Ball_Possession  \\\n",
       "0                 4.4      8.2             4.6               55.6   \n",
       "1                 6.0      9.8             3.2               46.6   \n",
       "2                 6.4      8.6             7.4               47.6   \n",
       "3                 0.0      0.0             0.0                0.0   \n",
       "4                 5.8      9.8             7.2               56.2   \n",
       "\n",
       "   h_Goalkeeper_Saves  h_Total_passes  h_Passes_accurate  h_Passing_accuracy  \\\n",
       "0                 2.4           568.0              488.0                83.4   \n",
       "1                 1.4           430.4              322.8                72.6   \n",
       "2                 3.4           428.0              335.2                77.6   \n",
       "3                 0.0             0.0                0.0                 0.0   \n",
       "4                 2.2           481.8              374.8                76.4   \n",
       "\n",
       "   a_Shots_on_Goal  a_Shots_off_Goal  a_Total_Shots  a_Blocked_Shots  \\\n",
       "0              5.2               4.0           11.6              2.4   \n",
       "1              5.8               4.2           14.6              4.6   \n",
       "2              0.0               0.0            0.0              0.0   \n",
       "3              3.4               4.6           11.8              3.8   \n",
       "4              3.0               4.0           10.6              3.6   \n",
       "\n",
       "   a_Shots_insidebox  a_Shots_outsidebox  a_Fouls  a_Corner_Kicks  \\\n",
       "0                8.0                 3.6     10.4             4.2   \n",
       "1                8.4                 6.2      8.6             5.2   \n",
       "2                0.0                 0.0      0.0             0.0   \n",
       "3                6.6                 5.2     11.0             4.6   \n",
       "4                6.8                 4.0     10.6             3.0   \n",
       "\n",
       "   a_Ball_Possession  a_Goalkeeper_Saves  a_Total_passes  a_Passes_accurate  \\\n",
       "0               52.0                 2.0           405.0              306.6   \n",
       "1               64.2                 2.8           577.2              481.8   \n",
       "2                0.0                 0.0             0.0                0.0   \n",
       "3               48.0                 3.6           390.2              294.2   \n",
       "4               51.0                 2.8           531.8              444.4   \n",
       "\n",
       "   a_Passing_accuracy      h_0      h_1      h_2      h_3      h_4      h_5  \\\n",
       "0                75.6    882.0    887.0    889.0    891.0    885.0    901.0   \n",
       "1                83.4  18886.0  18891.0  18894.0  18892.0  18897.0  18904.0   \n",
       "2                 0.0  18858.0  18864.0  18869.0  18863.0  18861.0  18879.0   \n",
       "3                75.4  19011.0  19019.0  19017.0  19015.0  19016.0  19029.0   \n",
       "4                83.0  19038.0   2731.0  19044.0  19045.0  19043.0  19042.0   \n",
       "\n",
       "       h_6      h_7      h_8      h_9     h_10      a_0      a_1      a_2  \\\n",
       "0    904.0    905.0    899.0    910.0    909.0   2728.0  18774.0   2935.0   \n",
       "1  18898.0  18903.0  18902.0  18907.0  18906.0    159.0    170.0    163.0   \n",
       "2  18874.0  18873.0  18870.0   2939.0  18881.0  18983.0  18994.0  18991.0   \n",
       "3  19031.0  19025.0   3243.0  19032.0   2825.0  18836.0  18842.0  18844.0   \n",
       "4  19049.0  19050.0  19051.0   2734.0   3395.0   2273.0   2283.0   2280.0   \n",
       "\n",
       "       a_3      a_4      a_5      a_6      a_7      a_8      a_9     a_10  \n",
       "0  18771.0   2933.0    114.0   3421.0  18786.0  18781.0  18784.0   2778.0  \n",
       "1    164.0    168.0    179.0    174.0    178.0    172.0    175.0    184.0  \n",
       "2  18986.0  18992.0  18987.0  18993.0  19004.0  19003.0  19007.0  19008.0  \n",
       "3  18845.0  18843.0  18846.0  18849.0  18854.0  18852.0   2928.0   3247.0  \n",
       "4   2278.0   2285.0   2287.0   2289.0   2290.0   2294.0   2299.0     59.0  "
      ]
     },
     "execution_count": 7,
     "metadata": {},
     "output_type": "execute_result"
    }
   ],
   "source": [
    "df.head()"
   ]
  },
  {
   "cell_type": "code",
   "execution_count": 8,
   "id": "e210b8b1",
   "metadata": {},
   "outputs": [
    {
     "data": {
      "text/plain": [
       "fixture_id              int64\n",
       "home_id                 int64\n",
       "h_elo                 float64\n",
       "h_attack              float64\n",
       "h_defence             float64\n",
       "away_id                 int64\n",
       "a_elo                 float64\n",
       "a_attack              float64\n",
       "a_defence             float64\n",
       "result                float64\n",
       "h_Shots_on_Goal       float64\n",
       "h_Shots_off_Goal      float64\n",
       "h_Total_Shots         float64\n",
       "h_Blocked_Shots       float64\n",
       "h_Shots_insidebox     float64\n",
       "h_Shots_outsidebox    float64\n",
       "h_Fouls               float64\n",
       "h_Corner_Kicks        float64\n",
       "h_Ball_Possession     float64\n",
       "h_Goalkeeper_Saves    float64\n",
       "h_Total_passes        float64\n",
       "h_Passes_accurate     float64\n",
       "h_Passing_accuracy    float64\n",
       "a_Shots_on_Goal       float64\n",
       "a_Shots_off_Goal      float64\n",
       "a_Total_Shots         float64\n",
       "a_Blocked_Shots       float64\n",
       "a_Shots_insidebox     float64\n",
       "a_Shots_outsidebox    float64\n",
       "a_Fouls               float64\n",
       "a_Corner_Kicks        float64\n",
       "a_Ball_Possession     float64\n",
       "a_Goalkeeper_Saves    float64\n",
       "a_Total_passes        float64\n",
       "a_Passes_accurate     float64\n",
       "a_Passing_accuracy    float64\n",
       "h_0                   float64\n",
       "h_1                   float64\n",
       "h_2                   float64\n",
       "h_3                   float64\n",
       "h_4                   float64\n",
       "h_5                   float64\n",
       "h_6                   float64\n",
       "h_7                   float64\n",
       "h_8                   float64\n",
       "h_9                   float64\n",
       "h_10                  float64\n",
       "a_0                   float64\n",
       "a_1                   float64\n",
       "a_2                   float64\n",
       "a_3                   float64\n",
       "a_4                   float64\n",
       "a_5                   float64\n",
       "a_6                   float64\n",
       "a_7                   float64\n",
       "a_8                   float64\n",
       "a_9                   float64\n",
       "a_10                  float64\n",
       "dtype: object"
      ]
     },
     "execution_count": 8,
     "metadata": {},
     "output_type": "execute_result"
    }
   ],
   "source": [
    "df.dtypes"
   ]
  },
  {
   "cell_type": "code",
   "execution_count": null,
   "id": "87786a1e",
   "metadata": {
    "scrolled": true
   },
   "outputs": [],
   "source": [
    "target = df.pop('result')\n",
    "print(target)"
   ]
  },
  {
   "cell_type": "code",
   "execution_count": 10,
   "id": "41ef9c0c",
   "metadata": {},
   "outputs": [
    {
     "data": {
      "text/plain": [
       "0.0    6439\n",
       "1.0    4482\n",
       "0.5    3532\n",
       "Name: result, dtype: int64"
      ]
     },
     "execution_count": 10,
     "metadata": {},
     "output_type": "execute_result"
    }
   ],
   "source": [
    "target.value_counts()\n"
   ]
  },
  {
   "cell_type": "code",
   "execution_count": null,
   "id": "c28f2a57",
   "metadata": {},
   "outputs": [],
   "source": [
    "home = []\n",
    "away = []\n",
    "draw = []\n",
    "for i in range(len(target)):\n",
    "    if (target[i]==0.0):\n",
    "        home.append(target[i])\n",
    "    elif (target[i]==1.0):\n",
    "        away.append(target[i])\n",
    "    elif (target[i]==0.5):\n",
    "        target[i]=2.0\n",
    "        draw.append(target[i])\n",
    "        \n",
    "print(len(home))\n",
    "print(len(away))\n",
    "print(len(draw))\n",
    "for i in range(len(draw)):\n",
    "    print(draw[i])"
   ]
  },
  {
   "cell_type": "code",
   "execution_count": 12,
   "id": "43f031b3",
   "metadata": {},
   "outputs": [
    {
     "data": {
      "text/plain": [
       "<tf.Tensor: shape=(14453, 57), dtype=float64, numpy=\n",
       "array([[6.50000000e+01, 3.30000000e+01, 1.70199998e+03, ...,\n",
       "        1.87810000e+04, 1.87840000e+04, 2.77800000e+03],\n",
       "       [6.60000000e+01, 3.40000000e+01, 1.48432586e+03, ...,\n",
       "        1.72000000e+02, 1.75000000e+02, 1.84000000e+02],\n",
       "       [6.70000000e+01, 3.50000000e+01, 1.47763841e+03, ...,\n",
       "        1.90030000e+04, 1.90070000e+04, 1.90080000e+04],\n",
       "       ...,\n",
       "       [7.05681000e+05, 1.91000000e+02, 1.50786184e+03, ...,\n",
       "        2.53490000e+04, 2.48030000e+04, 2.86200000e+03],\n",
       "       [7.05682000e+05, 2.40000000e+02, 1.41787466e+03, ...,\n",
       "        2.48600000e+04, 3.32500000e+03, 3.33200000e+04],\n",
       "       [7.05683000e+05, 2.26000000e+02, 1.47748874e+03, ...,\n",
       "        4.19300000e+04, 4.11880000e+04, 4.11390000e+04]])>"
      ]
     },
     "execution_count": 12,
     "metadata": {},
     "output_type": "execute_result"
    }
   ],
   "source": [
    "tf.convert_to_tensor(df)"
   ]
  },
  {
   "cell_type": "code",
   "execution_count": 13,
   "id": "716da9bc",
   "metadata": {},
   "outputs": [],
   "source": [
    "#normalizer = tf.keras.layers.experimental.preprocessing.Normalization(axis=-1)\n",
    "#normalizer.adapt(df)\n",
    "scaler = MinMaxScaler()\n",
    "df = scaler.fit_transform(df)"
   ]
  },
  {
   "cell_type": "code",
   "execution_count": 14,
   "id": "8e4ef38c",
   "metadata": {},
   "outputs": [],
   "source": [
    "#normalizer(df.iloc[:3])\n"
   ]
  },
  {
   "cell_type": "code",
   "execution_count": 15,
   "id": "55d43837",
   "metadata": {},
   "outputs": [],
   "source": [
    "x_train, x_val, y_train, y_val = train_test_split(df, target, test_size = 0.4, random_state=42)"
   ]
  },
  {
   "cell_type": "code",
   "execution_count": 16,
   "id": "4be1e889",
   "metadata": {},
   "outputs": [
    {
     "name": "stdout",
     "output_type": "stream",
     "text": [
      "8671\n"
     ]
    },
    {
     "data": {
      "text/plain": [
       "array([[0.86232211, 0.36556604, 0.38324217, ..., 0.10334259, 0.10386294,\n",
       "        0.10962562],\n",
       "       [0.05064497, 0.04323899, 0.2091332 , ..., 0.06910431, 0.00996769,\n",
       "        0.01200556],\n",
       "       [0.28814458, 0.39465409, 0.29630491, ..., 0.35122515, 0.        ,\n",
       "        0.04688089],\n",
       "       ...,\n",
       "       [0.03407793, 0.14465409, 0.43246984, ..., 0.13970586, 0.13884597,\n",
       "        0.14907347],\n",
       "       [0.0045903 , 0.12814465, 0.2028945 , ..., 0.12475368, 0.12534659,\n",
       "        0.01028279],\n",
       "       [0.13239883, 0.03459119, 0.25382948, ..., 0.07288096, 0.07325152,\n",
       "        0.07931922]])"
      ]
     },
     "metadata": {},
     "output_type": "display_data"
    },
    {
     "name": "stdout",
     "output_type": "stream",
     "text": [
      "0.0    2578\n",
      "1.0    1797\n",
      "2.0    1407\n",
      "Name: result, dtype: int64\n",
      "[0.86232211 0.36556604 0.38324217 0.42119054 0.45511803 0.36320755\n",
      " 0.24572431 0.27418407 0.29520427 0.4        0.37333333 0.44666667\n",
      " 0.21666667 0.40952381 0.3        0.49586777 0.30666667 0.60309278\n",
      " 0.3        0.53778308 0.47135757 0.85869565 0.2295082  0.31428571\n",
      " 0.30718954 0.2        0.30851064 0.24       0.51666667 0.18333333\n",
      " 0.61298701 0.36666667 0.55193176 0.50210025 0.88596491 0.10919167\n",
      " 0.07207317 0.01093581 0.10626084 0.107559   0.01015845 0.10223813\n",
      " 0.13559247 0.11166029 0.05709548 0.09863715 0.00292069 0.00832226\n",
      " 0.09783697 0.10737405 0.10792384 0.00657563 0.00502267 0.01003194\n",
      " 0.10334259 0.10386294 0.10962562]\n"
     ]
    }
   ],
   "source": [
    "print(len(x_train))\n",
    "display(x_train)\n",
    "print(y_val.value_counts())\n",
    "print(x_train[0])"
   ]
  },
  {
   "cell_type": "code",
   "execution_count": 17,
   "id": "8e5a41d5",
   "metadata": {},
   "outputs": [
    {
     "name": "stdout",
     "output_type": "stream",
     "text": [
      "8671\n",
      "0.0    3861\n",
      "1.0    2685\n",
      "2.0    2125\n",
      "Name: result, dtype: int64\n"
     ]
    }
   ],
   "source": [
    "print(len(y_train))\n",
    "print(y_train.value_counts())"
   ]
  },
  {
   "cell_type": "code",
   "execution_count": 18,
   "id": "ce146268",
   "metadata": {},
   "outputs": [
    {
     "name": "stdout",
     "output_type": "stream",
     "text": [
      "5782\n",
      "5782\n"
     ]
    }
   ],
   "source": [
    "print(len(x_val))\n",
    "print(len(y_val))"
   ]
  },
  {
   "cell_type": "code",
   "execution_count": 19,
   "id": "05c9675a",
   "metadata": {},
   "outputs": [],
   "source": [
    "x_val, x_test, y_val, y_test = train_test_split(x_val, y_val, test_size = 0.5, random_state=42)"
   ]
  },
  {
   "cell_type": "code",
   "execution_count": null,
   "id": "89e34201",
   "metadata": {
    "scrolled": true
   },
   "outputs": [],
   "source": [
    "dummy_y = np_utils.to_categorical(y_train)\n",
    "print(dummy_y[:100])\n",
    "# 0 = home = 100, 1 = away = 010, 2 = draw =001"
   ]
  },
  {
   "cell_type": "code",
   "execution_count": 21,
   "id": "ccd910b0",
   "metadata": {
    "scrolled": true
   },
   "outputs": [
    {
     "data": {
      "text/plain": [
       "2891"
      ]
     },
     "execution_count": 21,
     "metadata": {},
     "output_type": "execute_result"
    }
   ],
   "source": [
    "len(x_val)"
   ]
  },
  {
   "cell_type": "code",
   "execution_count": 22,
   "id": "ccac4f78",
   "metadata": {},
   "outputs": [
    {
     "data": {
      "text/plain": [
       "2891"
      ]
     },
     "execution_count": 22,
     "metadata": {},
     "output_type": "execute_result"
    }
   ],
   "source": [
    "len(y_val)"
   ]
  },
  {
   "cell_type": "code",
   "execution_count": 23,
   "id": "b60df705",
   "metadata": {},
   "outputs": [
    {
     "name": "stdout",
     "output_type": "stream",
     "text": [
      "2891\n",
      "2891\n"
     ]
    }
   ],
   "source": [
    "print(len(x_test))\n",
    "print(len(y_test))"
   ]
  },
  {
   "cell_type": "code",
   "execution_count": null,
   "id": "47ce4daa",
   "metadata": {},
   "outputs": [],
   "source": [
    "def build_model(hp):\n",
    "    model = keras.Sequential()\n",
    "    model.add(layers.Flatten())\n",
    "    # Tune the number of layers.\n",
    "    for i in range(hp.Int(\"num_layers\", 1, 6)):\n",
    "        model.add(\n",
    "            layers.Dense(\n",
    "                # Tune number of units separately.\n",
    "                \n",
    "                units=hp.Int(f\"units_{i}\", min_value=32, max_value=256, step=32),\n",
    "                activation=hp.Choice(\"activation\", [\"relu\", \"tanh\"]),\n",
    "            )\n",
    "        )\n",
    "    \n",
    "        print(i)\n",
    "    if hp.Boolean(\"dropout\"):\n",
    "        model.add(layers.Dropout(rate=0.25))\n",
    "    model.add(layers.Dense(3, activation=\"softmax\")) #hier sigmoid statt softmax aus tutprial da binary und anzahl Klassen anstatt 10\n",
    "    learning_rate = hp.Float(\"lr\", min_value=1e-3, max_value=1e-2, sampling=\"log\")\n",
    "    model.compile(\n",
    "        optimizer=keras.optimizers.Adam(learning_rate=learning_rate),\n",
    "        loss=\"sparse_categorical_crossentropy\", # https://stackoverflow.com/questions/61742556/valueerror-shapes-none-1-and-none-2-are-incompatible\n",
    "        metrics=[\"accuracy\"],\n",
    "    )\n",
    "    return model\n",
    "\n",
    "\n",
    "build_model(kt.HyperParameters())"
   ]
  },
  {
   "cell_type": "code",
   "execution_count": 25,
   "id": "dd32c9f3",
   "metadata": {},
   "outputs": [
    {
     "name": "stdout",
     "output_type": "stream",
     "text": [
      "0\n"
     ]
    }
   ],
   "source": [
    "tuner = kt.BayesianOptimization(\n",
    "    hypermodel=build_model,\n",
    "    objective=\"val_accuracy\",\n",
    "    max_trials=200,\n",
    "    executions_per_trial=3,\n",
    "    overwrite=True,\n",
    "    directory=\"edit_fixture_edit_players\",\n",
    "    project_name=\"helloworld\",\n",
    ")"
   ]
  },
  {
   "cell_type": "code",
   "execution_count": 26,
   "id": "f93b11df",
   "metadata": {
    "scrolled": false
   },
   "outputs": [
    {
     "name": "stdout",
     "output_type": "stream",
     "text": [
      "Search space summary\n",
      "Default search space size: 5\n",
      "num_layers (Int)\n",
      "{'default': None, 'conditions': [], 'min_value': 1, 'max_value': 6, 'step': 1, 'sampling': None}\n",
      "units_0 (Int)\n",
      "{'default': None, 'conditions': [], 'min_value': 32, 'max_value': 256, 'step': 32, 'sampling': None}\n",
      "activation (Choice)\n",
      "{'default': 'relu', 'conditions': [], 'values': ['relu', 'tanh'], 'ordered': False}\n",
      "dropout (Boolean)\n",
      "{'default': False, 'conditions': []}\n",
      "lr (Float)\n",
      "{'default': 0.001, 'conditions': [], 'min_value': 0.001, 'max_value': 0.01, 'step': None, 'sampling': 'log'}\n"
     ]
    }
   ],
   "source": [
    "tuner.search_space_summary()"
   ]
  },
  {
   "cell_type": "code",
   "execution_count": 27,
   "id": "d1dd39b4",
   "metadata": {},
   "outputs": [
    {
     "name": "stdout",
     "output_type": "stream",
     "text": [
      "Trial 200 Complete [00h 00m 30s]\n",
      "val_accuracy: 0.5428340832392374\n",
      "\n",
      "Best val_accuracy So Far: 0.5466390053431193\n",
      "Total elapsed time: 02h 14m 15s\n",
      "INFO:tensorflow:Oracle triggered exit\n"
     ]
    }
   ],
   "source": [
    "tuner.search(x_train, y_train, epochs=20, validation_data=(x_val, y_val))"
   ]
  },
  {
   "cell_type": "code",
   "execution_count": 27,
   "id": "d4dd0a57",
   "metadata": {
    "scrolled": true
   },
   "outputs": [
    {
     "name": "stdout",
     "output_type": "stream",
     "text": [
      "Results summary\n",
      "Results in edit_fixture_edit_players\\helloworld\n",
      "Showing 10 best trials\n",
      "Objective(name='val_accuracy', direction='max')\n"
     ]
    }
   ],
   "source": [
    "tuner.results_summary()"
   ]
  },
  {
   "cell_type": "code",
   "execution_count": 28,
   "id": "5f87e023",
   "metadata": {},
   "outputs": [],
   "source": [
    "hp = kt.HyperParameters()\n",
    "learning_rate = hp.Float(\"lr\", min_value=1e-3, max_value=1e-2, sampling=\"log\")\n",
    "optimizer=keras.optimizers.Adam(learning_rate=learning_rate)\n",
    "best_hps=tuner.get_best_hyperparameters(num_trials=1)\n",
    "#print(best_hps)\n",
    "best_model = tuner.get_best_models(num_models=1)\n",
    "checkpoint = tf.train.Checkpoint(optimizer=optimizer, model=best_model)\n",
    "#tf.train.Checkpoint.restore(...).expect_partial()\n",
    "#to_be_predicted = np.array([[[0.6579319133419915,1666.6615077675299,0.18500000000000003,-0.37750000000000006,0,6.795720454545455,0.4803987065096406,1653.0341501069572,0.18500000000000003,-0.6725000000000001,0,6.8410482]]])\n",
    "#y_prob = best_model[0].predict(x_train)\n",
    "#best_model[0].summary()\n",
    "#print(y_prob)"
   ]
  },
  {
   "cell_type": "code",
   "execution_count": null,
   "id": "3a343383",
   "metadata": {
    "scrolled": true
   },
   "outputs": [],
   "source": [
    "best_model[0].save('best_model_edit_fixture_edit_player')"
   ]
  },
  {
   "cell_type": "code",
   "execution_count": 30,
   "id": "1a50fd7c",
   "metadata": {},
   "outputs": [],
   "source": [
    "file_to_store = open(\"stored_object.pickle\", \"wb\")\n",
    "pickle.dump(tuner, file_to_store)\n",
    "\n",
    "file_to_store.close()"
   ]
  },
  {
   "cell_type": "code",
   "execution_count": 31,
   "id": "09814ad0",
   "metadata": {},
   "outputs": [
    {
     "name": "stdout",
     "output_type": "stream",
     "text": [
      "<keras_tuner.tuners.bayesian.BayesianOptimization object at 0x0000018909DC8F40>\n"
     ]
    }
   ],
   "source": [
    "file_to_read = open(\"stored_object.pickle\", \"rb\")\n",
    "\n",
    "\n",
    "loaded_tuner = pickle.load(file_to_read)\n",
    "\n",
    "\n",
    "file_to_read.close()\n",
    "print(loaded_tuner)"
   ]
  },
  {
   "cell_type": "code",
   "execution_count": 32,
   "id": "c31b6144",
   "metadata": {},
   "outputs": [
    {
     "name": "stdout",
     "output_type": "stream",
     "text": [
      "Results summary\n",
      "Results in edit_fixture_edit_players\\helloworld\n",
      "Showing 10 best trials\n",
      "Objective(name='val_accuracy', direction='max')\n"
     ]
    }
   ],
   "source": [
    "loaded_tuner.results_summary()"
   ]
  },
  {
   "cell_type": "code",
   "execution_count": 33,
   "id": "d1a3f5be",
   "metadata": {},
   "outputs": [],
   "source": [
    "loaded_model = keras.models.load_model('best_model_edit_fixture_edit_player')"
   ]
  },
  {
   "cell_type": "code",
   "execution_count": 34,
   "id": "09fc0813",
   "metadata": {
    "scrolled": true
   },
   "outputs": [
    {
     "name": "stdout",
     "output_type": "stream",
     "text": [
      "Model: \"sequential\"\n",
      "_________________________________________________________________\n",
      "Layer (type)                 Output Shape              Param #   \n",
      "=================================================================\n",
      "flatten (Flatten)            (None, 57)                0         \n",
      "_________________________________________________________________\n",
      "dense (Dense)                (None, 32)                1856      \n",
      "_________________________________________________________________\n",
      "dense_1 (Dense)              (None, 3)                 99        \n",
      "=================================================================\n",
      "Total params: 1,955\n",
      "Trainable params: 1,955\n",
      "Non-trainable params: 0\n",
      "_________________________________________________________________\n"
     ]
    }
   ],
   "source": [
    "loaded_model.summary()"
   ]
  },
  {
   "cell_type": "code",
   "execution_count": 35,
   "id": "af9f41f5",
   "metadata": {
    "scrolled": true
   },
   "outputs": [
    {
     "data": {
      "text/plain": [
       "{'name': 'dense',\n",
       " 'trainable': True,\n",
       " 'dtype': 'float32',\n",
       " 'units': 32,\n",
       " 'activation': 'relu',\n",
       " 'use_bias': True,\n",
       " 'kernel_initializer': {'class_name': 'GlorotUniform',\n",
       "  'config': {'seed': None}},\n",
       " 'bias_initializer': {'class_name': 'Zeros', 'config': {}},\n",
       " 'kernel_regularizer': None,\n",
       " 'bias_regularizer': None,\n",
       " 'activity_regularizer': None,\n",
       " 'kernel_constraint': None,\n",
       " 'bias_constraint': None}"
      ]
     },
     "execution_count": 35,
     "metadata": {},
     "output_type": "execute_result"
    }
   ],
   "source": [
    "loaded_model.layers[1].get_config()"
   ]
  },
  {
   "cell_type": "code",
   "execution_count": 36,
   "id": "0b35cecd",
   "metadata": {},
   "outputs": [
    {
     "data": {
      "text/plain": [
       "{'name': 'Adam',\n",
       " 'learning_rate': 0.001,\n",
       " 'decay': 0.0,\n",
       " 'beta_1': 0.9,\n",
       " 'beta_2': 0.999,\n",
       " 'epsilon': 1e-07,\n",
       " 'amsgrad': False}"
      ]
     },
     "execution_count": 36,
     "metadata": {},
     "output_type": "execute_result"
    }
   ],
   "source": [
    "loaded_model.optimizer.get_config()"
   ]
  },
  {
   "cell_type": "code",
   "execution_count": null,
   "id": "9b6df8ec",
   "metadata": {},
   "outputs": [],
   "source": [
    "correct_prediction = 0\n",
    "false_prediction = 0\n",
    "y_true = []\n",
    "y_pred = []\n",
    "for i in range(len(x_test)):\n",
    "   \n",
    "    to_be_predicted = np.array([x_test[[i]]])\n",
    "    y_prob = loaded_model.predict(to_be_predicted)\n",
    "    \n",
    "    result = y_test.iloc[[i][0]]\n",
    "    predicted_result = np.argmax(y_prob) # wähle result mit\n",
    "    #y_true.append(str(CATEGORIES[int(result)]))\n",
    "    #y_pred.append(str(CATEGORIES[predicted_result]))\n",
    "    y_true.append(result)\n",
    "    y_pred.append(predicted_result)\n",
    "    if(int(result) == predicted_result):\n",
    "        print(f\"Match {i}\")\n",
    "        print(\"result: \" + str(CATEGORIES[int(result)]))\n",
    "        print(\"prediction: \" + str(CATEGORIES[predicted_result]))\n",
    "        correct_prediction = correct_prediction+1\n",
    "    #print(y_prob[0][0])\n",
    "    #print(y_prob[0][1])\n",
    "    #print(y_prob[0][2])\n",
    "    #print(f\"result number {i}: \" + str(y_val.iloc[[i][0]]))\n",
    "    else:\n",
    "        print(f\"No Match: {i}\")\n",
    "        print(\"result: \" + str(CATEGORIES[int(result)]))\n",
    "    #print(\"prediction number \"+ str(np.argmax(y_prob)))\n",
    "        print(\"prediction: \" + str(CATEGORIES[predicted_result]))\n",
    "        false_prediction = false_prediction+1\n",
    "print(\"correct: \"+ str(correct_prediction) + \"/\" + str(len(x_test)))\n",
    "print(\"correct: \" +str(correct_prediction/len(x_test)))\n",
    "print(\"false: \"+ str(false_prediction) + \"/\" + str(len(x_test)))\n",
    "print(\"false: \" +str(false_prediction/len(x_test)))"
   ]
  },
  {
   "cell_type": "code",
   "execution_count": 39,
   "id": "2750925a",
   "metadata": {},
   "outputs": [
    {
     "data": {
      "text/plain": [
       "array([[1044,  218,    0],\n",
       "       [ 423,  481,    0],\n",
       "       [ 501,  224,    0]], dtype=int64)"
      ]
     },
     "execution_count": 39,
     "metadata": {},
     "output_type": "execute_result"
    }
   ],
   "source": [
    "classes=[0.0, 1.0, 2.0]\n",
    "confusion_matrix(y_true, y_pred, labels=[0.0, 1.0, 2.0])\n",
    "\n"
   ]
  },
  {
   "cell_type": "code",
   "execution_count": 39,
   "id": "1a1959f5",
   "metadata": {},
   "outputs": [],
   "source": [
    "def plot_confusion_matrix(cm, classes,\n",
    "                          normalize=False,\n",
    "                          title='Confusion matrix',\n",
    "                          cmap=plt.cm.Blues):\n",
    "    \"\"\"\n",
    "    This function prints and plots the confusion matrix.\n",
    "    Normalization can be applied by setting `normalize=True`.\n",
    "    \"\"\"\n",
    "    import itertools\n",
    "    if normalize:\n",
    "        cm = cm.astype('float') / cm.sum(axis=1)[:, np.newaxis]\n",
    "        print(\"Normalized confusion matrix\")\n",
    "    else:\n",
    "        print('Confusion matrix, without normalization')\n",
    "\n",
    "    print(cm)\n",
    "\n",
    "    plt.imshow(cm, interpolation='nearest', cmap=cmap)\n",
    "    plt.title(title)\n",
    "    plt.colorbar()\n",
    "    tick_marks = np.arange(len(classes))\n",
    "    plt.xticks(tick_marks, classes, rotation=45)\n",
    "    plt.yticks(tick_marks, classes)\n",
    "\n",
    "    fmt = '.2f' if normalize else 'd'\n",
    "    thresh = cm.max() / 2.\n",
    "    for i, j in itertools.product(range(cm.shape[0]), range(cm.shape[1])):\n",
    "        plt.text(j, i, format(cm[i, j], fmt),\n",
    "                 horizontalalignment=\"center\",\n",
    "                 color=\"white\" if cm[i, j] > thresh else \"black\")\n",
    "\n",
    "    plt.ylabel('tatsächliches Ergebnis')\n",
    "    plt.xlabel('vorhergesagtes Ergebnis')\n",
    "    plt.tight_layout()"
   ]
  },
  {
   "cell_type": "code",
   "execution_count": 40,
   "id": "ddf5a3e5",
   "metadata": {
    "scrolled": true
   },
   "outputs": [
    {
     "name": "stdout",
     "output_type": "stream",
     "text": [
      "Confusion matrix, without normalization\n",
      "[[1044  218    0]\n",
      " [ 423  481    0]\n",
      " [ 501  224    0]]\n"
     ]
    },
    {
     "data": {
      "image/png": "[encoded data removed]",
      "text/plain": [
       "<Figure size 432x288 with 2 Axes>"
      ]
     },
     "metadata": {
      "needs_background": "light"
     },
     "output_type": "display_data"
    }
   ],
   "source": [
    "cnf_matrix = confusion_matrix(y_true, y_pred, labels=[0.0, 1.0, 2.0])\n",
    "np.set_printoptions(precision=2)\n",
    "\n",
    "# Plot non-normalized confusion matrix\n",
    "plt.figure()\n",
    "plot_confusion_matrix(cnf_matrix, classes=['HEIM', 'AUSWÄRTS', 'REMIS'],\n",
    "                      title='')"
   ]
  },
  {
   "cell_type": "code",
   "execution_count": 47,
   "id": "11cb465f",
   "metadata": {},
   "outputs": [
    {
     "data": {
      "image/png": "[encoded data removed]",
      "text/plain": [
       "<IPython.core.display.Image object>"
      ]
     },
     "execution_count": 47,
     "metadata": {},
     "output_type": "execute_result"
    }
   ],
   "source": [
    "tf.keras.utils.plot_model(loaded_model, to_file=\"Bild_model.png\", show_shapes=True)"
   ]
  },
  {
   "cell_type": "code",
   "execution_count": 42,
   "id": "3c0063ae",
   "metadata": {},
   "outputs": [
    {
     "name": "stderr",
     "output_type": "stream",
     "text": [
      "C:\\Users\\Anwender\\AppData\\Local\\Temp/ipykernel_13624/1338496663.py:14: RuntimeWarning: invalid value encountered in true_divide\n",
      "  PPV = TP/(TP+FP)\n",
      "C:\\Users\\Anwender\\AppData\\Local\\Temp/ipykernel_13624/1338496663.py:22: RuntimeWarning: invalid value encountered in true_divide\n",
      "  FDR = FP/(TP+FP)\n"
     ]
    }
   ],
   "source": [
    "FP = cnf_matrix.sum(axis=0) - np.diag(cnf_matrix) \n",
    "FN = cnf_matrix.sum(axis=1) - np.diag(cnf_matrix)\n",
    "TP = np.diag(cnf_matrix)\n",
    "TN = cnf_matrix.sum() - (FP + FN + TP)\n",
    "FP = FP.astype(float)\n",
    "FN = FN.astype(float)\n",
    "TP = TP.astype(float)\n",
    "TN = TN.astype(float)\n",
    "# Sensitivity, hit rate, recall, or true positive rate\n",
    "TPR = TP/(TP+FN)\n",
    "# Specificity or true negative rate\n",
    "TNR = TN/(TN+FP) \n",
    "# Precision or positive predictive value\n",
    "PPV = TP/(TP+FP)\n",
    "# Negative predictive value\n",
    "NPV = TN/(TN+FN)\n",
    "# Fall out or false positive rate\n",
    "FPR = FP/(FP+TN)\n",
    "# False negative rate\n",
    "FNR = FN/(TP+FN)\n",
    "# False discovery rate\n",
    "FDR = FP/(TP+FP)\n",
    "# Overall accuracy for each class\n",
    "ACC = (TP+TN)/(TP+FP+FN+TN)"
   ]
  },
  {
   "cell_type": "code",
   "execution_count": 43,
   "id": "831f744f",
   "metadata": {},
   "outputs": [
    {
     "name": "stdout",
     "output_type": "stream",
     "text": [
      "[0.6  0.7  0.75]\n"
     ]
    }
   ],
   "source": [
    "#Genauigkeit\n",
    "print(ACC)"
   ]
  },
  {
   "cell_type": "code",
   "execution_count": 44,
   "id": "3cb5d1a3",
   "metadata": {},
   "outputs": [
    {
     "name": "stdout",
     "output_type": "stream",
     "text": [
      "[0.53 0.52  nan]\n"
     ]
    }
   ],
   "source": [
    "#Präzision\n",
    "print(PPV)"
   ]
  },
  {
   "cell_type": "code",
   "execution_count": 45,
   "id": "ecf38a00",
   "metadata": {},
   "outputs": [
    {
     "name": "stdout",
     "output_type": "stream",
     "text": [
      "[0.83 0.53 0.  ]\n"
     ]
    }
   ],
   "source": [
    "#Trefferquote\n",
    "print(TPR)"
   ]
  },
  {
   "cell_type": "code",
   "execution_count": 46,
   "id": "076cdc86",
   "metadata": {},
   "outputs": [
    {
     "name": "stdout",
     "output_type": "stream",
     "text": [
      "[0.65 0.53  nan]\n"
     ]
    }
   ],
   "source": [
    "#F-Maß\n",
    "F_SCORE= (2 * PPV * TPR)/(PPV+TPR)\n",
    "print(F_SCORE)"
   ]
  },
  {
   "cell_type": "code",
   "execution_count": 38,
   "id": "44664d8f",
   "metadata": {},
   "outputs": [
    {
     "name": "stdout",
     "output_type": "stream",
     "text": [
      "2891\n"
     ]
    },
    {
     "data": {
      "text/plain": [
       "0.0    1262\n",
       "1.0     904\n",
       "2.0     725\n",
       "Name: result, dtype: int64"
      ]
     },
     "execution_count": 38,
     "metadata": {},
     "output_type": "execute_result"
    }
   ],
   "source": [
    "print(len(y_test))\n",
    "y_test.value_counts()"
   ]
  }
 ],
 "metadata": {
  "kernelspec": {
   "display_name": "Python 3 (ipykernel)",
   "language": "python",
   "name": "python3"
  },
  "language_info": {
   "codemirror_mode": {
    "name": "ipython",
    "version": 3
   },
   "file_extension": ".py",
   "mimetype": "text/x-python",
   "name": "python",
   "nbconvert_exporter": "python",
   "pygments_lexer": "ipython3",
   "version": "3.9.0"
  }
 },
 "nbformat": 4,
 "nbformat_minor": 5
}
